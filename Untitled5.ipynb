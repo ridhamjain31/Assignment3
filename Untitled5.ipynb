{
  "nbformat": 4,
  "nbformat_minor": 0,
  "metadata": {
    "colab": {
      "provenance": [],
      "authorship_tag": "ABX9TyPEeLw4NPUvF6IwATfvBB8G",
      "include_colab_link": true
    },
    "kernelspec": {
      "name": "python3",
      "display_name": "Python 3"
    },
    "language_info": {
      "name": "python"
    }
  },
  "cells": [
    {
      "cell_type": "markdown",
      "metadata": {
        "id": "view-in-github",
        "colab_type": "text"
      },
      "source": [
        "<a href=\"https://colab.research.google.com/github/ridhamjain31/Assignment3/blob/main/Untitled5.ipynb\" target=\"_parent\"><img src=\"https://colab.research.google.com/assets/colab-badge.svg\" alt=\"Open In Colab\"/></a>"
      ]
    },
    {
      "cell_type": "code",
      "execution_count": null,
      "metadata": {
        "colab": {
          "base_uri": "https://localhost:8080/"
        },
        "id": "62wKFwNmmYfn",
        "outputId": "aa3d6fa0-c23e-4a43-a8c1-b37f176fefe2"
      },
      "outputs": [
        {
          "output_type": "stream",
          "name": "stdout",
          "text": [
            "[[ 7 12  2 20  1]\n",
            " [15 20 19  9 17]\n",
            " [12 19 18  9  1]]\n",
            "(3, 5)\n",
            "[[ 7 12  2  0  1]\n",
            " [15  0 19  9 17]\n",
            " [12  0 18  9  1]]\n"
          ]
        }
      ],
      "source": [
        "#\n",
        "import numpy as np\n",
        "random_vector = np.random.randint(1, 21, 15)\n",
        "reshaped_array = random_vector.reshape(3, 5)\n",
        "print(reshaped_array)\n",
        "\n",
        "print(reshaped_array.shape)\n",
        "\n",
        "# find the indices of the maximum values in each row\n",
        "max_indices = np.argmax(reshaped_array, axis=1)\n",
        "# replace the maximum values with 0\n",
        "for i, index in enumerate(max_indices):\n",
        "    reshaped_array[i, index] = 0\n",
        "print(reshaped_array)\n"
      ]
    },
    {
      "cell_type": "code",
      "source": [
        "import numpy as np\n",
        "\n",
        "# create a 2-dimensional array of size 4 x 3 with 4-byte integer elements\n",
        "arr = np.array([[1, 2, 3], [4, 5, 6], [7, 8, 9], [10, 11, 12]], dtype=np.int32)\n",
        "\n",
        "# print the shape of the array\n",
        "print(\"Shape of array:\", arr.shape)\n",
        "\n",
        "# print the type of the array\n",
        "print(\"Type of array:\", type(arr))\n",
        "\n",
        "# print the data type of the array\n",
        "print(\"Data type of array:\", arr.dtype)\n"
      ],
      "metadata": {
        "colab": {
          "base_uri": "https://localhost:8080/"
        },
        "id": "ND9qvf_ApR8T",
        "outputId": "653eb176-6c27-4939-c211-6b8976c3bc05"
      },
      "execution_count": null,
      "outputs": [
        {
          "output_type": "stream",
          "name": "stdout",
          "text": [
            "Shape of array: (4, 3)\n",
            "Type of array: <class 'numpy.ndarray'>\n",
            "Data type of array: int32\n"
          ]
        }
      ]
    },
    {
      "cell_type": "code",
      "source": [
        "import numpy as np\n",
        "\n",
        "# define the square array\n",
        "arr = np.array([[3, -2], [1, 0]])\n",
        "\n",
        "# compute the eigenvalues and right eigenvectors\n",
        "eigenvalues, eigenvectors = np.linalg.eig(arr)\n",
        "\n",
        "print(\"Eigenvalues:\", eigenvalues)\n",
        "print(\"Right Eigenvectors:\")\n",
        "print(eigenvectors)\n"
      ],
      "metadata": {
        "colab": {
          "base_uri": "https://localhost:8080/"
        },
        "id": "w-r-nCQpq4t_",
        "outputId": "588f3d2c-495b-49c3-8686-3d6109b626e1"
      },
      "execution_count": null,
      "outputs": [
        {
          "output_type": "stream",
          "name": "stdout",
          "text": [
            "Eigenvalues: [2. 1.]\n",
            "Right Eigenvectors:\n",
            "[[0.89442719 0.70710678]\n",
            " [0.4472136  0.70710678]]\n"
          ]
        }
      ]
    },
    {
      "cell_type": "code",
      "source": [
        "import numpy as np\n",
        "\n",
        "# define the array\n",
        "arr = np.array([[0, 1, 2], [3, 4, 5]])\n",
        "\n",
        "# compute the sum of the diagonal elements\n",
        "diag_sum = np.trace(arr)\n",
        "\n",
        "print(\"Sum of diagonal elements:\", diag_sum)\n"
      ],
      "metadata": {
        "colab": {
          "base_uri": "https://localhost:8080/"
        },
        "id": "XpTlz1eCsXSj",
        "outputId": "a1dc01cf-b871-43ff-b420-76651b7320ee"
      },
      "execution_count": null,
      "outputs": [
        {
          "output_type": "stream",
          "name": "stdout",
          "text": [
            "Sum of diagonal elements: 4\n"
          ]
        }
      ]
    },
    {
      "cell_type": "code",
      "source": [
        "import numpy as np\n",
        "\n",
        "# define the array\n",
        "arr = np.array([[1, 2], [3, 4], [5, 6]])\n",
        "\n",
        "# reshape the array\n",
        "new_arr = np.reshape(arr, (2, 3))\n",
        "\n",
        "print(\"Original array:\")\n",
        "print(arr)\n",
        "print(\"Reshaped array:\")\n",
        "print(new_arr)\n"
      ],
      "metadata": {
        "colab": {
          "base_uri": "https://localhost:8080/"
        },
        "id": "pFEO1VY4tPQK",
        "outputId": "54ece551-c2aa-4d49-bfc5-4d08981d4c55"
      },
      "execution_count": null,
      "outputs": [
        {
          "output_type": "stream",
          "name": "stdout",
          "text": [
            "Original array:\n",
            "[[1 2]\n",
            " [3 4]\n",
            " [5 6]]\n",
            "Reshaped array:\n",
            "[[1 2 3]\n",
            " [4 5 6]]\n"
          ]
        }
      ]
    },
    {
      "cell_type": "code",
      "source": [
        "import numpy as np\n",
        "\n",
        "# define the array\n",
        "arr = np.array([[1, 2, 3], [4, 5, 6]])\n",
        "\n",
        "# reshape the array\n",
        "new_arr = np.reshape(arr, (3, 2))\n",
        "\n",
        "print(\"Original array:\")\n",
        "print(arr)\n",
        "print(\"Reshaped array:\")\n",
        "print(new_arr)\n"
      ],
      "metadata": {
        "colab": {
          "base_uri": "https://localhost:8080/"
        },
        "id": "ttaPu2YPtmd5",
        "outputId": "685272a7-97ad-4101-edb2-d18cb2846ff3"
      },
      "execution_count": null,
      "outputs": [
        {
          "output_type": "stream",
          "name": "stdout",
          "text": [
            "Original array:\n",
            "[[1 2 3]\n",
            " [4 5 6]]\n",
            "Reshaped array:\n",
            "[[1 2]\n",
            " [3 4]\n",
            " [5 6]]\n"
          ]
        }
      ]
    },
    {
      "cell_type": "code",
      "source": [
        "import matplotlib.pyplot as plt\n",
        "\n",
        "# define the programming languages and their popularity\n",
        "languages = ['Java', 'Python', 'PHP', 'JavaScript', 'C#', 'C++']\n",
        "popularity = [31.3, 24.8, 12.4, 11.3, 10.8, 9.4]\n",
        "exp=[.2,0,0,0,0,0]\n",
        "# create the pie chart\n",
        "plt.pie(popularity, labels=languages, explode=exp, autopct='%1.1f%%', shadow=True, startangle=135)\n",
        "\n",
        "# show the chart\n",
        "plt.show()\n"
      ],
      "metadata": {
        "colab": {
          "base_uri": "https://localhost:8080/",
          "height": 406
        },
        "id": "Mlu5LijDuty4",
        "outputId": "f457e40c-b096-4758-b848-798ec08e3955"
      },
      "execution_count": 5,
      "outputs": [
        {
          "output_type": "display_data",
          "data": {
            "text/plain": [
              "<Figure size 640x480 with 1 Axes>"
            ],
            "image/png": "[encoded data removed]"
          },
          "metadata": {}
        }
      ]
    }
  ]
}